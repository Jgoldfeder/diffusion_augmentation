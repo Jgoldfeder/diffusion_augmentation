{
 "cells": [
  {
   "cell_type": "code",
   "execution_count": null,
   "metadata": {},
   "outputs": [],
   "source": [
    "# General diffusion model augmentation\n",
    "\n",
    "# FLUX or stable diffusion model\n",
    "\n",
    "# Also maybe add LORAs to the model"
   ]
  }
 ],
 "metadata": {
  "language_info": {
   "name": "python"
  }
 },
 "nbformat": 4,
 "nbformat_minor": 2
}
